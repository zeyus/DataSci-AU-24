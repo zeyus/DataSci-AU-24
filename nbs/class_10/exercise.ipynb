{
 "cells": [
  {
   "cell_type": "markdown",
   "metadata": {},
   "source": [
    "## Class 10 - Image encoding and classification using CNNs and ViTs\n",
    "In this class, we will use pretrained CNN and transformer models to encode and classify images.\n",
    "We will use a library you are familiar with, namely Hugging Face's _transformers_, as well as (under the hood) _timm_ (another HuggingFace library, specific to computer vision) and _pytorch_."
   ]
  },
  {
   "cell_type": "markdown",
   "metadata": {},
   "source": [
    "### Instructions\n",
    "**Overall goal**: training a simple fully-connected neural network that classifies snack types from this dataset (https://huggingface.co/datasets/Matthijs/snacks) based on image embeddings extracted from a pretrained ResNet model (https://arxiv.org/abs/1512.03385)\n",
    "\n",
    "**Suggestion**: use `example.ipynb` notebook if you are in doubt! This might be especially helpful with respect to Pytorch. All we will use Pytorch for, here, are things we already did as part of NLP, but if you have not used Pytorch since it is perfectly understandable that you need a reminder.\n",
    "\n",
    "Steps:\n",
    "1. Use Hugging Face's `dataset` library to import the dataset: https://huggingface.co/datasets/Matthijs/snacks. Import the training and the test splits from this dataset, and visualize the frequency of each class.\n",
    "2. Load a pretrained ResNet model using HuggingFace's `transformers`. Check the documentation (https://huggingface.co/docs/transformers/en/model_doc/resnet, https://huggingface.co/microsoft/resnet-50) for more details on how to load the model. Visualize the structure of the model, and reflect on how each of the blocks works, based on what we discussed in the lecture;\n",
    "3. Extract ResNet embeddings for all the images in the training set and all the images in the test set. You will need to look for the `pooler_output` attribute of the model's output. This sounds complex, but it's really just a minor change over the examples presented in the model's documentation;\n",
    "4. Optional: apply dimensionality reduction to the embeddings using TSNE (https://scikit-learn.org/stable/modules/generated/sklearn.manifold.TSNE.html): is any information about the labels encoded in the embeddings?\n",
    "5. Train a simple neural network that, for each image in the training set, takes the embeddings as inputs and predicts the snack label\n",
    "    - You will have to create a Pytorch `Dataset` (https://pytorch.org/tutorials/beginner/basics/data_tutorial.html) where both your embeddings and your labels are included.\n",
    "    - You will also have to create a `Dataloader` for the training set, as this will make it much easier to do things like batching and shuffling\n",
    "    - You need to specify the loss and the optimizer\n",
    "    - Then, you need to specify a training loop. Remember the neural net gymnastics:\n",
    "        - Do the forward step, i.e., make a prediction\n",
    "        - Compute the loss based on predictions and true labels \n",
    "        - Compute gradients\n",
    "        - Propagate gradients (backpropagation)\n",
    "6. Evaluate the resulting model:\n",
    "    - Make predictions for all examples in the test set\n",
    "    - Use `sklearn.metrics` utils (https://scikit-learn.org/stable/modules/model_evaluation.html#classification-metrics) to compute accuracy and F1-score\n",
    "    - Also plot the confusion matrix, to see which categories are most often confused\n",
    "7. Explore zero-shot classification for computer vision\n",
    "    - Try classification on custom labels on one of the images from today's dataset. To do so, adapt the code provided here: https://huggingface.co/docs/transformers/en/tasks/zero_shot_image_classification, by simply replacing the desired labels and the input\n",
    "    - Can you get reasonable predictions on more nuanced labels than the ones provided with the dataset?\n",
    "    - Which kind of models support this behavior? Why?"
   ]
  },
  {
   "cell_type": "code",
   "execution_count": null,
   "metadata": {},
   "outputs": [],
   "source": [
    "# label dictionary: inferred from the dataset's online documentation\n",
    "label_dict = {0: 'apple',\n",
    "              1: 'banana',\n",
    "              2: 'cake',\n",
    "              3: 'candy',\n",
    "              4: 'carrot',\n",
    "              5: 'cookie',\n",
    "              6: 'doughnut',\n",
    "              7: 'grape',\n",
    "              8: 'hotdog',\n",
    "              9: 'icecream',\n",
    "              10: 'juice',\n",
    "              11: 'muffin',\n",
    "              12: 'orange',\n",
    "              13: 'pineapple',\n",
    "              14: 'popcorn',\n",
    "              15: 'pretzel',\n",
    "              16: 'salad',\n",
    "              17: 'strawberry',\n",
    "              18: 'waffle',\n",
    "              19: 'watermelon'}"
   ]
  },
  {
   "cell_type": "code",
   "execution_count": null,
   "metadata": {},
   "outputs": [],
   "source": [
    "# Do stuff"
   ]
  },
  {
   "cell_type": "markdown",
   "metadata": {},
   "source": [
    "#### Bonus CV tasks\n",
    "- Try training a classifier on embeddings extracted from a vision transformer: how does performance compare to ResNet?\n",
    "- Build a CNN from scratch for this classification task: how does performance compare? There are lots of tutorials online, you can start from this one: https://pytorch.org/tutorials/beginner/blitz/cifar10_tutorial.html.\n",
    "- Look up models and pipelines for more computer vision tasks, including semantic segmentation, object detection (which can also be performed zero-shot using ViT), etc.\n",
    "\n",
    "#### Bonus NN-related tasks\n",
    "- Train NN-based models (FFNNs or RNNs) on the bike data: how does performance compare to the best algorithms?\n",
    "\n",
    "### Additional tasks\n",
    "- A wide array of pretrained models for audio classification (including zero-shot audio classification) are also available on Hugging Face. Experiment with those :)"
   ]
  },
  {
   "cell_type": "markdown",
   "metadata": {},
   "source": [
    "### Additional notes\n",
    "- Here, we worked with pretrained models. If you want to train a CNN from scratch (e.g., because you are working with \"special\" image data, and no pretrained models are available), you can look up, for example, _Pytorch_'s intro tutorial (https://pytorch.org/tutorials/beginner/blitz/cifar10_tutorial.html). There are really a billion resources online if this is what you decide to focus on for your final project;\n",
    "- If, instead, fine-tuning a full model is what you want to do, plenty of tutorials are available for tasks ranging from image classification, object detection, image segmentation, etc. Look up _timm_'s documentation (https://huggingface.co/docs/hub/en/timm) and _transformers_'s documentation (https://huggingface.co/docs/transformers/tasks/image_classification)."
   ]
  }
 ],
 "metadata": {
  "kernelspec": {
   "display_name": "Python 3",
   "language": "python",
   "name": "python3"
  },
  "language_info": {
   "codemirror_mode": {
    "name": "ipython",
    "version": 3
   },
   "file_extension": ".py",
   "mimetype": "text/x-python",
   "name": "python",
   "nbconvert_exporter": "python",
   "pygments_lexer": "ipython3",
   "version": "3.11.2"
  }
 },
 "nbformat": 4,
 "nbformat_minor": 2
}
