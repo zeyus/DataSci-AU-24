{
 "cells": [
  {
   "cell_type": "code",
   "execution_count": null,
   "metadata": {},
   "outputs": [],
   "source": [
    "%matplotlib inline"
   ]
  },
  {
   "cell_type": "markdown",
   "metadata": {},
   "source": [
    "# Part 1\n",
    "## DoWhy example"
   ]
  },
  {
   "cell_type": "markdown",
   "metadata": {},
   "source": [
    "This exercise is based on [Confounding Example: Finding causal effects from observed data](https://www.pywhy.org/dowhy/v0.11.1/example_notebooks/dowhy_confounder_example.html#Confounding-Example:-Finding-causal-effects-from-observed-data)\n",
    "\n",
    "Based on the concepts introduced in the previous lecture on estimating causal effects. The first part of the exercise is to use the DoWhy library to estimate causal effects on a dataset. \n",
    "\n",
    "In order to evaluate the precision of the estimation we need to simulate the dataset, so we know the true effect. To do this you can either:\n",
    "\n",
    "1) simulate the dataset yourself based on the SCM principles;\n",
    "2) use the funtion ```dowhy.datasets.linear_dataset``` to simulate the dataset for you.\n",
    "\n",
    "\n",
    "When you have the dataset causal effect using DoWhy.\n",
    "\n",
    "### STEP 1: Model the problem as a causal graph\n",
    "\n",
    "Once you have a dataset, you need to build the graph that generated the dataset. If you use the DoWhy function it will also generate the graph for you. Once you have the graph remember to plot it! Always make a visualisation if possible. \n",
    "\n",
    "### STEP 2: Identify causal effect using properties of the formal causal graph\n",
    "\n",
    "Once the estimand is identified check it for backdoors, iv (instrumental variables) and frontdoors. If you are happy continue. Pause and consider what would you do if you were not happy with a given estimand? \n",
    "\n",
    "### STEP 3: Estimate the causal effect\n",
    "\n",
    "Estimate the effect and evaluate it. \n",
    "\n",
    "### OPTIONAL Step 4: Refuting the estimate\n",
    "\n",
    "There are several techniques to refute the estimate, in the example link above a few is given. You can try them out and consider what is the reasons for doing them. \n",
    "\n",
    "\n",
    "\n",
    "\n"
   ]
  },
  {
   "cell_type": "markdown",
   "metadata": {},
   "source": [
    "## Generate data"
   ]
  },
  {
   "cell_type": "code",
   "execution_count": null,
   "metadata": {},
   "outputs": [],
   "source": [
    "import numpy as np\n",
    "import pandas as pd\n",
    "import matplotlib.pyplot as plt\n",
    "import math\n",
    "import dowhy\n",
    "from dowhy import CausalModel\n",
    "import dowhy.datasets, dowhy.plotter\n",
    "\n",
    "# Config dict to set the logging level\n",
    "import logging.config\n",
    "DEFAULT_LOGGING = {\n",
    "    'version': 1,\n",
    "    'disable_existing_loggers': False,\n",
    "    'loggers': {\n",
    "        '': {\n",
    "            'level': 'INFO',\n",
    "        },\n",
    "    }\n",
    "}\n",
    "\n",
    "logging.config.dictConfig(DEFAULT_LOGGING)"
   ]
  },
  {
   "cell_type": "code",
   "execution_count": null,
   "metadata": {},
   "outputs": [],
   "source": [
    "rvar = 1 if np.random.uniform() > 0.5 else 0\n",
    "data_dict = dowhy.datasets.xy_dataset(\n",
    "    10000, effect=rvar, num_common_causes=1, sd_error=0.15\n",
    ")\n",
    "df = data_dict[\"df\"]\n",
    "print(df[[\"Treatment\", \"Outcome\", \"w0\"]].head())"
   ]
  },
  {
   "cell_type": "markdown",
   "metadata": {},
   "source": [
    "## Make causal model and plot it\n",
    "\n",
    "We are taken advantage of DoWhy's build in functions to visualise."
   ]
  },
  {
   "cell_type": "markdown",
   "metadata": {},
   "source": [
    "Making a model object that has a several functions we can use afterwards. "
   ]
  },
  {
   "cell_type": "code",
   "execution_count": null,
   "metadata": {},
   "outputs": [],
   "source": [
    "model = CausalModel(\n",
    "    data=df,\n",
    "    treatment=data_dict[\"treatment_name\"],\n",
    "    outcome=data_dict[\"outcome_name\"],\n",
    "    common_causes=data_dict[\"common_causes_names\"],\n",
    "    instruments=data_dict[\"instrument_names\"],\n",
    ")\n",
    "model.view_model(layout=\"dot\")"
   ]
  },
  {
   "cell_type": "markdown",
   "metadata": {},
   "source": [
    "In order to estimate the estimand we call ```model.identify_effect```"
   ]
  },
  {
   "cell_type": "code",
   "execution_count": null,
   "metadata": {},
   "outputs": [],
   "source": [
    "identified_estimand = model.identify_effect(proceed_when_unidentifiable=True)\n",
    "print(identified_estimand)"
   ]
  },
  {
   "cell_type": "markdown",
   "metadata": {},
   "source": [
    "Once we have the causal model and estimand, we can estimate the causal effect using the ```model.estimate_effect```."
   ]
  },
  {
   "cell_type": "code",
   "execution_count": null,
   "metadata": {},
   "outputs": [],
   "source": [
    "estimate = model.estimate_effect(\n",
    "    identified_estimand, method_name=\"backdoor.linear_regression\"\n",
    ")\n",
    "print(\"Causal Estimate is \" + str(estimate.value))\n"
   ]
  },
  {
   "cell_type": "markdown",
   "metadata": {},
   "source": [
    "### Refute the estimate \n",
    "\n",
    "In order to refute the estimate we have several options, we can:\n",
    "- add a random cause, \n",
    "- change treatment to placebo,\n",
    "- use only a subset of the data.\n"
   ]
  },
  {
   "cell_type": "code",
   "execution_count": null,
   "metadata": {},
   "outputs": [],
   "source": [
    "res_random = model.refute_estimate(\n",
    "    identified_estimand, estimate, method_name=\"random_common_cause\"\n",
    ")\n",
    "print(res_random)"
   ]
  },
  {
   "cell_type": "code",
   "execution_count": null,
   "metadata": {},
   "outputs": [],
   "source": [
    "res_placebo = model.refute_estimate(\n",
    "    identified_estimand,\n",
    "    estimate,\n",
    "    method_name=\"placebo_treatment_refuter\",\n",
    "    placebo_type=\"permute\",\n",
    ")\n",
    "print(res_placebo)"
   ]
  },
  {
   "cell_type": "code",
   "execution_count": null,
   "metadata": {},
   "outputs": [],
   "source": [
    "res_subset = model.refute_estimate(\n",
    "    identified_estimand,\n",
    "    estimate,\n",
    "    method_name=\"data_subset_refuter\",\n",
    "    subset_fraction=0.9,\n",
    ")\n",
    "print(res_subset)"
   ]
  },
  {
   "cell_type": "markdown",
   "metadata": {},
   "source": [
    "# Part 2\n",
    "## Consider how to apply causal inference to your own project."
   ]
  },
  {
   "cell_type": "markdown",
   "metadata": {},
   "source": [
    "For your own spend some time considering could causal inference be useful, consider both \n",
    "why and why not. \n",
    "\n",
    "What sort of questions could causal inference solve in your project?\n",
    "\n",
    "For causal inference to be useful several things need to be considered: \n",
    "\n",
    "- What is the data generating process (DGP)?\n",
    "- How to graph the DGP?\n",
    "    - How would you find the information needed to graph it?\n",
    "    - What is the relation between the different nodes in the graph?\n",
    "- What is the treatment variable?\n",
    "- Consider the estimand.\n",
    "    - Anything that needs to be changed?\n",
    "- How would you interpret and use any finding? \n",
    "\n",
    "\n"
   ]
  },
  {
   "cell_type": "markdown",
   "metadata": {},
   "source": []
  }
 ],
 "metadata": {
  "kernelspec": {
   "display_name": "causal_kernel",
   "language": "python",
   "name": "causal"
  },
  "language_info": {
   "codemirror_mode": {
    "name": "ipython",
    "version": 3
   },
   "file_extension": ".py",
   "mimetype": "text/x-python",
   "name": "python",
   "nbconvert_exporter": "python",
   "pygments_lexer": "ipython3",
   "version": "3.9.18"
  }
 },
 "nbformat": 4,
 "nbformat_minor": 4
}
