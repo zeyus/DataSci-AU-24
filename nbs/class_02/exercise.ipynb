{
 "cells": [
  {
   "cell_type": "markdown",
   "metadata": {},
   "source": [
    "## Class 2 - Defining evaluation metrics and fitting basic regression models\n",
    "In our second lecture, we discussed a number of algorithms and evaluation metrics for regression problems. Today, we will go back to the datasets we looked at last week, and implement some of these algorithms and evaluation metrics on the predictive modeling problems we have defined. "
   ]
  },
  {
   "cell_type": "markdown",
   "metadata": {},
   "source": [
    "We will do all of this using `scikit-learn`. A couple of useful pointers to useful documentation, before we start:\n",
    "- In general, the scikit-learn documentation is your friend: https://scikit-learn.org/stable/\n",
    "- Here is a list of linear models implemented as Extractors/Predictors in sklearn: https://scikit-learn.org/stable/modules/classes.html#module-sklearn.linear_model\n",
    "- Here are different forms of neighbor-based models (we talked about `KNNRegressor` yesterday)\n",
    "- Here are evaluation metrics implemented in sklearn: https://scikit-learn.org/stable/modules/classes.html#sklearn-metrics-metrics \n",
    "- Here are utilities for preprocessing steps: https://scikit-learn.org/stable/modules/classes.html#module-sklearn.preprocessing "
   ]
  },
  {
   "cell_type": "markdown",
   "metadata": {},
   "source": [
    "**Note**: Under `nbs/class_02` you will find a notebook called `example.ipynb`, where I provide an example of how to run today's exercise on simulated data."
   ]
  },
  {
   "cell_type": "markdown",
   "metadata": {},
   "source": [
    "### Today's exercise\n",
    "Gather in the same or similar groups as last week. Under `class/class_02.md` you will find two predictive modeling questions, one for each datasets. There are different variants of the same questions, which differ in which outcome you want to predict.\n",
    "\n",
    "What I would like you to do today is the following:\n",
    "1. Create a folder called `group-x` within `nbs/class_02`, `cd` into it and work within that today\n",
    "2. Choose an outcome variable for a regression problem. On the basis of this, define **which of the evaluation metrics** could be suitable. Evaluation metrics can be computed using scikit-learn: https://scikit-learn.org/stable/modules/model_evaluation.html#regression-metrics \n",
    "3. (a) If you are in the bike sharing group, split your dataset into a training/validation/test set using later time points as validation/test set. Validation and test set should be 15% of your data each. (b) If you are in the personality group, using sklearn's `train_test_split` function, create a 70/15/15 random split of your data.\n",
    "    - Remember to set a seed (`random_state`) when you do so. Let's all use the same (the classic `random_state=42`)\n",
    "    - Save these datasets as separate csv files in a subfolder called `data`\n",
    "4. Look at your outcome and predictors: do you want to transform them in any way?\n",
    "5. Estimate the performance of a dummy baseline (i.e., the mean model) on all splits\n",
    "6. Now look at your predictors: do they need any preprocessing? Any transformations? Removal of \"bad\" data points?\n",
    "7. Fit the other models using KKN (sklearn's `KNeighborsRegressor`: https://scikit-learn.org/stable/modules/generated/sklearn.neighbors.KNeighborsRegressor.html) and linear models (`LinearRegressor`: https://scikit-learn.org/stable/modules/generated/sklearn.linear_model.LinearRegression.html). Save the fitted model object (with a meaningful name) using `pickle` (https://scikit-learn.org/stable/model_persistence.html) in a subfolder called `model`.\n",
    "8. Once you are done, evaluate all models on both the training and the validation set and visualize the scores\n"
   ]
  },
  {
   "cell_type": "markdown",
   "metadata": {},
   "source": [
    "### Once you have done this\n",
    "Please submit a pull request to my repository where, within `nbs/class_02/group-x` you have: \n",
    "- the notebook on which you have worked\n",
    "- a subfolder called `data` containing your splits\n",
    "- a subfolder called `models` containing your models\n",
    "\n",
    "In next week's class, I will ask each group to briefly present their results."
   ]
  },
  {
   "cell_type": "code",
   "execution_count": 1,
   "metadata": {},
   "outputs": [],
   "source": [
    "# import packages\n",
    "import pandas as pd\n",
    "import numpy as np\n",
    "import seaborn as sns\n",
    "from sklearn.linear_model import LinearRegression\n",
    "from sklearn.neighbors import KNeighborsRegressor\n",
    "from sklearn.metrics import mean_absolute_error\n",
    "import pickle as pkl"
   ]
  },
  {
   "cell_type": "code",
   "execution_count": 4,
   "metadata": {},
   "outputs": [],
   "source": [
    "# load the data\n",
    "data = pd.read_csv(\"../../data/class_01/bikes.csv\")"
   ]
  },
  {
   "cell_type": "code",
   "execution_count": 5,
   "metadata": {},
   "outputs": [
    {
     "data": {
      "text/html": [
       "<div>\n",
       "<style scoped>\n",
       "    .dataframe tbody tr th:only-of-type {\n",
       "        vertical-align: middle;\n",
       "    }\n",
       "\n",
       "    .dataframe tbody tr th {\n",
       "        vertical-align: top;\n",
       "    }\n",
       "\n",
       "    .dataframe thead th {\n",
       "        text-align: right;\n",
       "    }\n",
       "</style>\n",
       "<table border=\"1\" class=\"dataframe\">\n",
       "  <thead>\n",
       "    <tr style=\"text-align: right;\">\n",
       "      <th></th>\n",
       "      <th>instant</th>\n",
       "      <th>dteday</th>\n",
       "      <th>season</th>\n",
       "      <th>yr</th>\n",
       "      <th>mnth</th>\n",
       "      <th>hr</th>\n",
       "      <th>holiday</th>\n",
       "      <th>weekday</th>\n",
       "      <th>workingday</th>\n",
       "      <th>weathersit</th>\n",
       "      <th>temp</th>\n",
       "      <th>atemp</th>\n",
       "      <th>hum</th>\n",
       "      <th>windspeed</th>\n",
       "      <th>casual</th>\n",
       "      <th>registered</th>\n",
       "      <th>cnt</th>\n",
       "    </tr>\n",
       "  </thead>\n",
       "  <tbody>\n",
       "    <tr>\n",
       "      <th>0</th>\n",
       "      <td>1</td>\n",
       "      <td>2011-01-01</td>\n",
       "      <td>1</td>\n",
       "      <td>0</td>\n",
       "      <td>1</td>\n",
       "      <td>0</td>\n",
       "      <td>0</td>\n",
       "      <td>6</td>\n",
       "      <td>0</td>\n",
       "      <td>1</td>\n",
       "      <td>0.24</td>\n",
       "      <td>0.2879</td>\n",
       "      <td>0.81</td>\n",
       "      <td>0.0</td>\n",
       "      <td>3</td>\n",
       "      <td>13</td>\n",
       "      <td>16</td>\n",
       "    </tr>\n",
       "    <tr>\n",
       "      <th>1</th>\n",
       "      <td>2</td>\n",
       "      <td>2011-01-01</td>\n",
       "      <td>1</td>\n",
       "      <td>0</td>\n",
       "      <td>1</td>\n",
       "      <td>1</td>\n",
       "      <td>0</td>\n",
       "      <td>6</td>\n",
       "      <td>0</td>\n",
       "      <td>1</td>\n",
       "      <td>0.22</td>\n",
       "      <td>0.2727</td>\n",
       "      <td>0.80</td>\n",
       "      <td>0.0</td>\n",
       "      <td>8</td>\n",
       "      <td>32</td>\n",
       "      <td>40</td>\n",
       "    </tr>\n",
       "    <tr>\n",
       "      <th>2</th>\n",
       "      <td>3</td>\n",
       "      <td>2011-01-01</td>\n",
       "      <td>1</td>\n",
       "      <td>0</td>\n",
       "      <td>1</td>\n",
       "      <td>2</td>\n",
       "      <td>0</td>\n",
       "      <td>6</td>\n",
       "      <td>0</td>\n",
       "      <td>1</td>\n",
       "      <td>0.22</td>\n",
       "      <td>0.2727</td>\n",
       "      <td>0.80</td>\n",
       "      <td>0.0</td>\n",
       "      <td>5</td>\n",
       "      <td>27</td>\n",
       "      <td>32</td>\n",
       "    </tr>\n",
       "    <tr>\n",
       "      <th>3</th>\n",
       "      <td>4</td>\n",
       "      <td>2011-01-01</td>\n",
       "      <td>1</td>\n",
       "      <td>0</td>\n",
       "      <td>1</td>\n",
       "      <td>3</td>\n",
       "      <td>0</td>\n",
       "      <td>6</td>\n",
       "      <td>0</td>\n",
       "      <td>1</td>\n",
       "      <td>0.24</td>\n",
       "      <td>0.2879</td>\n",
       "      <td>0.75</td>\n",
       "      <td>0.0</td>\n",
       "      <td>3</td>\n",
       "      <td>10</td>\n",
       "      <td>13</td>\n",
       "    </tr>\n",
       "    <tr>\n",
       "      <th>4</th>\n",
       "      <td>5</td>\n",
       "      <td>2011-01-01</td>\n",
       "      <td>1</td>\n",
       "      <td>0</td>\n",
       "      <td>1</td>\n",
       "      <td>4</td>\n",
       "      <td>0</td>\n",
       "      <td>6</td>\n",
       "      <td>0</td>\n",
       "      <td>1</td>\n",
       "      <td>0.24</td>\n",
       "      <td>0.2879</td>\n",
       "      <td>0.75</td>\n",
       "      <td>0.0</td>\n",
       "      <td>0</td>\n",
       "      <td>1</td>\n",
       "      <td>1</td>\n",
       "    </tr>\n",
       "  </tbody>\n",
       "</table>\n",
       "</div>"
      ],
      "text/plain": [
       "   instant      dteday  season  yr  mnth  hr  holiday  weekday  workingday  \\\n",
       "0        1  2011-01-01       1   0     1   0        0        6           0   \n",
       "1        2  2011-01-01       1   0     1   1        0        6           0   \n",
       "2        3  2011-01-01       1   0     1   2        0        6           0   \n",
       "3        4  2011-01-01       1   0     1   3        0        6           0   \n",
       "4        5  2011-01-01       1   0     1   4        0        6           0   \n",
       "\n",
       "   weathersit  temp   atemp   hum  windspeed  casual  registered  cnt  \n",
       "0           1  0.24  0.2879  0.81        0.0       3          13   16  \n",
       "1           1  0.22  0.2727  0.80        0.0       8          32   40  \n",
       "2           1  0.22  0.2727  0.80        0.0       5          27   32  \n",
       "3           1  0.24  0.2879  0.75        0.0       3          10   13  \n",
       "4           1  0.24  0.2879  0.75        0.0       0           1    1  "
      ]
     },
     "execution_count": 5,
     "metadata": {},
     "output_type": "execute_result"
    }
   ],
   "source": [
    "# look at the data\n",
    "data.head()"
   ]
  },
  {
   "cell_type": "markdown",
   "metadata": {},
   "source": [
    "## Choosing an Evaluation Metric\n",
    "Based on the fact that we are interested in doing prediction, we are not going to evaluate based on R2. Instead, we opt for Mean Absolute Error as that is more suitable for seeing if our model predicts data well."
   ]
  },
  {
   "cell_type": "code",
   "execution_count": 6,
   "metadata": {},
   "outputs": [],
   "source": [
    "# creating the y and X for all models\n",
    "y = np.array(data[\"cnt\"])\n",
    "X0 = np.ones(len(y)).reshape(-1,1)\n",
    "X1 = np.array(data[\"instant\"]).reshape(-1,1)\n",
    "X2 = np.array(data[[\"temp\", \"windspeed\", \"season\", \"weekday\"]])\n",
    "X3 = np.array(data[[\"instant\", \"season\", \"yr\", \"mnth\", \"hr\", \"holiday\", \"weekday\", \"workingday\", \"weathersit\", \"temp\", \"atemp\", \"hum\", \"windspeed\"]])\n",
    "\n",
    "Xs = [X0, X1, X2, X3]"
   ]
  },
  {
   "cell_type": "code",
   "execution_count": 7,
   "metadata": {},
   "outputs": [
    {
     "name": "stdout",
     "output_type": "stream",
     "text": [
      "12165\n",
      "2606\n",
      "2608\n",
      "12165\n",
      "2606\n",
      "2608\n"
     ]
    }
   ],
   "source": [
    "# split the data into train, test and val\n",
    "\n",
    "# find the points that fit with where the data should be split to get 70/15/15\n",
    "first_70 = int(len(data) * 0.70)\n",
    "next_15 = int(len(data) * 0.15 + first_70)\n",
    "\n",
    "# set empty lists\n",
    "train_Xs = []\n",
    "val_Xs = []\n",
    "test_Xs = []\n",
    "\n",
    "# fill the lists\n",
    "for X in Xs:\n",
    "    # get the train\n",
    "    train = X[:first_70]\n",
    "    train_Xs.append(train)\n",
    "\n",
    "    # get the val\n",
    "    val = X[first_70:next_15]\n",
    "    val_Xs.append(val)\n",
    "\n",
    "    # get the test\n",
    "    test = X[next_15:]\n",
    "    test_Xs.append(test)\n",
    "\n",
    "\n",
    "y_train = y[:first_70]\n",
    "y_val = y[first_70:next_15]\n",
    "y_test = y[next_15:]\n",
    "\n",
    "print(len(train_Xs[0]))\n",
    "print(len(val_Xs[0]))\n",
    "print(len(test_Xs[0]))\n",
    "\n",
    "print(len(y_train))\n",
    "print(len(y_val))\n",
    "print(len(y_test))"
   ]
  },
  {
   "cell_type": "code",
   "execution_count": 8,
   "metadata": {},
   "outputs": [
    {
     "data": {
      "text/plain": [
       "<Axes: xlabel='cnt', ylabel='Count'>"
      ]
     },
     "execution_count": 8,
     "metadata": {},
     "output_type": "execute_result"
    },
    {
     "data": {
      "image/png": "[encoded data removed]",
      "text/plain": [
       "<Figure size 640x480 with 1 Axes>"
      ]
     },
     "metadata": {},
     "output_type": "display_data"
    }
   ],
   "source": [
    "# looking at the distribution of the outcome\n",
    "sns.histplot(data=data, x=\"cnt\")"
   ]
  },
  {
   "cell_type": "markdown",
   "metadata": {},
   "source": [
    "### Create and Evaluate Models for Linear Regression"
   ]
  },
  {
   "cell_type": "code",
   "execution_count": 11,
   "metadata": {},
   "outputs": [
    {
     "name": "stdout",
     "output_type": "stream",
     "text": [
      "MAE score for Linear Regression on X0: 194.08\n",
      "MAE score for Linear Regression on X1: 179.66\n",
      "MAE score for Linear Regression on X2: 166.05\n",
      "MAE score for Linear Regression on X3: 155.34\n"
     ]
    }
   ],
   "source": [
    "\n",
    "# init list for evals\n",
    "eval_mae = []\n",
    "\n",
    "# fit the models\n",
    "for i in range(len(Xs)):\n",
    "    # initialize the model\n",
    "    model = LinearRegression()\n",
    "\n",
    "    # fit model on the training data\n",
    "    model.fit(train_Xs[i], y_train)\n",
    "\n",
    "    # predict on the validation\n",
    "    X_predict = model.predict(val_Xs[i])\n",
    "\n",
    "    # evaluate the predictions\n",
    "    mae = round(mean_absolute_error(X_predict, y_val),2)\n",
    "\n",
    "    # append score\n",
    "    eval_mae.append(mae)\n",
    "\n",
    "    # save model to subfolder\n",
    "    pkl.dump(model, file=open(f'../../models/class_02/linear-{i}.pkl', 'wb'))\n",
    "\n",
    "    print(f\"MAE score for Linear Regression on X{i}: {mae}\")\n"
   ]
  },
  {
   "cell_type": "markdown",
   "metadata": {},
   "source": [
    "### Create and Evaluate Models for KNN Regression"
   ]
  },
  {
   "cell_type": "code",
   "execution_count": 13,
   "metadata": {},
   "outputs": [
    {
     "name": "stdout",
     "output_type": "stream",
     "text": [
      "MAE score for KNN Regression on X0: 268.89\n",
      "MAE score for KNN Regression on X1: 181.26\n",
      "MAE score for KNN Regression on X2: 164.73\n",
      "MAE score for KNN Regression on X3: 181.47\n"
     ]
    }
   ],
   "source": [
    "# repeat the process for KNN regression\n",
    "# init list for evals\n",
    "eval_mae = []\n",
    "\n",
    "# fit the models\n",
    "for i in range(len(Xs)):\n",
    "    # initialize the model (10 neighbors)\n",
    "    model = KNeighborsRegressor(n_neighbors=10)\n",
    "\n",
    "    # fit model on the training data\n",
    "    model.fit(train_Xs[i], y_train)\n",
    "\n",
    "    # predict on the validation\n",
    "    X_predict = model.predict(val_Xs[i])\n",
    "\n",
    "    # evaluate the predictions\n",
    "    mae = round(mean_absolute_error(X_predict, y_val),2)\n",
    "\n",
    "    # append score\n",
    "    eval_mae.append(mae)\n",
    "\n",
    "    pkl.dump(model, file=open(f'../../models/class_02/knn-{i}.pkl', 'wb'))\n",
    "\n",
    "    print(f\"MAE score for KNN Regression on X{i}: {mae}\")"
   ]
  }
 ],
 "metadata": {
  "kernelspec": {
   "display_name": "Python 3",
   "language": "python",
   "name": "python3"
  },
  "language_info": {
   "codemirror_mode": {
    "name": "ipython",
    "version": 3
   },
   "file_extension": ".py",
   "mimetype": "text/x-python",
   "name": "python",
   "nbconvert_exporter": "python",
   "pygments_lexer": "ipython3",
   "version": "3.11.8"
  }
 },
 "nbformat": 4,
 "nbformat_minor": 2
}
